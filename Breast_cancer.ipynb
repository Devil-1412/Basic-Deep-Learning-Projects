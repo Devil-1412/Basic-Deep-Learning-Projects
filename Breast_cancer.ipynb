{
  "nbformat": 4,
  "nbformat_minor": 0,
  "metadata": {
    "colab": {
      "provenance": []
    },
    "kernelspec": {
      "name": "python3",
      "display_name": "Python 3"
    },
    "language_info": {
      "name": "python"
    }
  },
  "cells": [
    {
      "cell_type": "code",
      "execution_count": 2,
      "metadata": {
        "id": "_JrAZyrrV4uB"
      },
      "outputs": [],
      "source": [
        "import numpy as np\n",
        "import pandas as pd\n",
        "from sklearn.datasets import load_breast_cancer\n",
        "from sklearn.model_selection import train_test_split\n",
        "import matplotlib.pyplot as plt"
      ]
    },
    {
      "cell_type": "code",
      "source": [
        "breast_cancer = load_breast_cancer()"
      ],
      "metadata": {
        "id": "N6Zu0kGwWMqL"
      },
      "execution_count": 20,
      "outputs": []
    },
    {
      "cell_type": "code",
      "source": [
        "X = pd.DataFrame(breast_cancer.data, columns=breast_cancer.feature_names)\n",
        "y = pd.DataFrame(breast_cancer.target, columns=[\"label\"])"
      ],
      "metadata": {
        "id": "7hnCOYDGWapJ"
      },
      "execution_count": 21,
      "outputs": []
    },
    {
      "cell_type": "code",
      "source": [
        "y.value_counts()"
      ],
      "metadata": {
        "colab": {
          "base_uri": "https://localhost:8080/"
        },
        "id": "QIT3IjtQX7fb",
        "outputId": "2fdd2f45-6119-41cf-f3a0-ebb0dc0ed109"
      },
      "execution_count": 22,
      "outputs": [
        {
          "output_type": "execute_result",
          "data": {
            "text/plain": [
              "label\n",
              "1        357\n",
              "0        212\n",
              "Name: count, dtype: int64"
            ]
          },
          "metadata": {},
          "execution_count": 22
        }
      ]
    },
    {
      "cell_type": "code",
      "source": [
        "X_train, X_test, y_train, y_test = train_test_split(X, y, test_size=0.2, random_state=42)\n"
      ],
      "metadata": {
        "id": "caqkZj9UWukD"
      },
      "execution_count": 24,
      "outputs": []
    },
    {
      "cell_type": "code",
      "source": [
        "import tensorflow as tf\n",
        "tf.random.set_seed(42)\n",
        "from tensorflow import keras\n",
        "from keras import Sequential"
      ],
      "metadata": {
        "id": "OCBr2JaxWmMd"
      },
      "execution_count": 25,
      "outputs": []
    },
    {
      "cell_type": "code",
      "source": [
        "model = Sequential([\n",
        "    keras.layers.Normalization(),\n",
        "    keras.layers.Flatten(input_shape=(30,)),\n",
        "    keras.layers.BatchNormalization(),\n",
        "    keras.layers.Dense(20, activation=\"relu\"),\n",
        "    keras.layers.BatchNormalization(),\n",
        "    keras.layers.Dense(10, activation=\"relu\"),\n",
        "    keras.layers.Dense(2, activation=\"sigmoid\")\n",
        "])\n",
        "model.compile(optimizer=\"adam\", loss=\"sparse_categorical_crossentropy\", metrics=[\"accuracy\"])\n"
      ],
      "metadata": {
        "id": "9l97OF4Em7HD"
      },
      "execution_count": 39,
      "outputs": []
    },
    {
      "cell_type": "code",
      "source": [
        "history = model.fit(X_train, y_train, epochs=10, validation_split=0.2)"
      ],
      "metadata": {
        "colab": {
          "base_uri": "https://localhost:8080/"
        },
        "id": "4IbnNNWYbQBZ",
        "outputId": "a7751503-0bed-457c-f9a6-da83661675e1"
      },
      "execution_count": 61,
      "outputs": [
        {
          "output_type": "stream",
          "name": "stdout",
          "text": [
            "Epoch 1/10\n",
            "12/12 [==============================] - 0s 12ms/step - loss: 0.0046 - accuracy: 1.0000 - val_loss: 0.0772 - val_accuracy: 0.9560\n",
            "Epoch 2/10\n",
            "12/12 [==============================] - 0s 6ms/step - loss: 0.0068 - accuracy: 1.0000 - val_loss: 0.0833 - val_accuracy: 0.9451\n",
            "Epoch 3/10\n",
            "12/12 [==============================] - 0s 8ms/step - loss: 0.0330 - accuracy: 0.9890 - val_loss: 0.0816 - val_accuracy: 0.9451\n",
            "Epoch 4/10\n",
            "12/12 [==============================] - 0s 8ms/step - loss: 0.0165 - accuracy: 0.9945 - val_loss: 0.0695 - val_accuracy: 0.9451\n",
            "Epoch 5/10\n",
            "12/12 [==============================] - 0s 6ms/step - loss: 0.0098 - accuracy: 0.9945 - val_loss: 0.0640 - val_accuracy: 0.9560\n",
            "Epoch 6/10\n",
            "12/12 [==============================] - 0s 6ms/step - loss: 0.0035 - accuracy: 1.0000 - val_loss: 0.0703 - val_accuracy: 0.9560\n",
            "Epoch 7/10\n",
            "12/12 [==============================] - 0s 6ms/step - loss: 0.0104 - accuracy: 1.0000 - val_loss: 0.0713 - val_accuracy: 0.9560\n",
            "Epoch 8/10\n",
            "12/12 [==============================] - 0s 7ms/step - loss: 0.0099 - accuracy: 0.9973 - val_loss: 0.0711 - val_accuracy: 0.9560\n",
            "Epoch 9/10\n",
            "12/12 [==============================] - 0s 6ms/step - loss: 0.0173 - accuracy: 0.9945 - val_loss: 0.0866 - val_accuracy: 0.9451\n",
            "Epoch 10/10\n",
            "12/12 [==============================] - 0s 7ms/step - loss: 0.0105 - accuracy: 0.9973 - val_loss: 0.0715 - val_accuracy: 0.9560\n"
          ]
        }
      ]
    },
    {
      "cell_type": "code",
      "source": [
        "model.evaluate(X_test, y_test)"
      ],
      "metadata": {
        "colab": {
          "base_uri": "https://localhost:8080/"
        },
        "id": "Qs0FtH8VeYoG",
        "outputId": "364dae03-a02b-4d32-8ed5-e70caa6ab249"
      },
      "execution_count": 70,
      "outputs": [
        {
          "output_type": "stream",
          "name": "stdout",
          "text": [
            "4/4 [==============================] - 0s 6ms/step - loss: 0.1762 - accuracy: 0.9649\n"
          ]
        },
        {
          "output_type": "execute_result",
          "data": {
            "text/plain": [
              "[0.17615550756454468, 0.9649122953414917]"
            ]
          },
          "metadata": {},
          "execution_count": 70
        }
      ]
    },
    {
      "cell_type": "code",
      "source": [
        "plt.plot(history.history[\"accuracy\"])\n",
        "plt.plot(history.history[\"val_accuracy\"])\n",
        "plt.title(\"model accuracy\")\n",
        "plt.ylabel(\"accuracy\")\n",
        "plt.xlabel(\"epoch\")\n",
        "plt.legend([\"train\", \"val\"], loc=\"upper left\")\n",
        "plt.show()"
      ],
      "metadata": {
        "colab": {
          "base_uri": "https://localhost:8080/",
          "height": 472
        },
        "id": "9ACbwO16ei4K",
        "outputId": "cd24ad56-b9c1-415b-ee1c-5c2f2ed6cfb1"
      },
      "execution_count": 64,
      "outputs": [
        {
          "output_type": "display_data",
          "data": {
            "text/plain": [
              "<Figure size 640x480 with 1 Axes>"
            ],
            "image/png": "[encoded data removed]"
          },
          "metadata": {}
        }
      ]
    },
    {
      "cell_type": "markdown",
      "source": [
        "Predictive System"
      ],
      "metadata": {
        "id": "gDrrLQEmiY87"
      }
    },
    {
      "cell_type": "code",
      "source": [
        "input_data=()\n",
        "\n",
        "input_data_array = np.asarray(input_data)\n",
        "input_data_reshaped = input_data_array.reshape(1, -1)\n",
        "\n",
        "prediction = model.predict(input_data_reshaped)\n",
        "print(prediction)\n",
        "\n",
        "predication_label = np.argmax(prediction)\n",
        "print(predication_label)\n",
        "\n",
        "if predication_label == 0:\n",
        "  print(\"The tumor is Malignant\")\n",
        "else:\n",
        "  print(\"The tumor is Benign\")"
      ],
      "metadata": {
        "colab": {
          "base_uri": "https://localhost:8080/"
        },
        "id": "z1YvdLHtidPR",
        "outputId": "c2c02d70-de91-4bdc-93ad-7801b8f3619b"
      },
      "execution_count": 75,
      "outputs": [
        {
          "output_type": "stream",
          "name": "stdout",
          "text": [
            "1/1 [==============================] - 0s 24ms/step\n",
            "[[2.412027e-05 9.970202e-01]]\n",
            "1\n",
            "The tumor is Benign\n"
          ]
        }
      ]
    },
    {
      "cell_type": "code",
      "source": [],
      "metadata": {
        "id": "KqqQWAlQjJSZ"
      },
      "execution_count": null,
      "outputs": []
    }
  ]
}
